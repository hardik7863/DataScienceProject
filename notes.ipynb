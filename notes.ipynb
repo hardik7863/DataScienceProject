{
 "cells": [
  {
   "cell_type": "markdown",
   "metadata": {},
   "source": [
    "# **Initial Step**\n",
    "\n",
    "setup the project structure using template.py\n",
    "\n",
    "then setup the logging in the src/datascience/__init__.py file \n",
    "you can even create the logging folder instead\n",
    "\n",
    "now check the logging in the main.py\n",
    "\n",
    "instead of using custom exception handling we have used python-box library \n"
   ]
  }
 ],
 "metadata": {
  "language_info": {
   "name": "python"
  }
 },
 "nbformat": 4,
 "nbformat_minor": 2
}
