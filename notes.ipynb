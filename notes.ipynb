{
 "cells": [
  {
   "cell_type": "markdown",
   "metadata": {},
   "source": [
    "# **Initial Step**\n",
    "\n",
    "setup the project structure using template.py\n",
    "\n",
    "then setup the logging in the src/datascience/__init__.py file \n",
    "you can even create the logging folder instead\n",
    "\n",
    "now check the logging in the main.py\n",
    "\n",
    "instead of using custom exception handling we have used python-box library \n",
    "\n",
    "adding common functionality in src/datascience/utils/common.py\n",
    "\n",
    "there are two types of model library pickle and joblib we will be using joblib here \n",
    "\n",
    "configbox handles exception better with yaml\n",
    "\n",
    "ensure annotation and config box is explain in research/research.ipynb"
   ]
  }
 ],
 "metadata": {
  "language_info": {
   "name": "python"
  }
 },
 "nbformat": 4,
 "nbformat_minor": 2
}
